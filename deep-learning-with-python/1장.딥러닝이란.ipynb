{
 "cells": [
  {
   "cell_type": "markdown",
   "id": "26329e92-c8a9-4275-9238-b5663d4f6835",
   "metadata": {},
   "source": [
    "# 1. 딥러닝이란 무엇인가\n",
    "> 딥러닝이 지금까지 얻은 성과, 어디로 가는지, 과장된 선전을 믿어도 되는지 알아보자\n",
    "\n",
    "## 1.1 인공 지능과 머신 러닝, 딥러닝\n",
    "\n",
    "### 1.1.1 인공 지능\n",
    "\n",
    "### 1.1.2 머신 러닝"
   ]
  }
 ],
 "metadata": {
  "kernelspec": {
   "display_name": "Python 3 (ipykernel)",
   "language": "python",
   "name": "python3"
  },
  "language_info": {
   "codemirror_mode": {
    "name": "ipython",
    "version": 3
   },
   "file_extension": ".py",
   "mimetype": "text/x-python",
   "name": "python",
   "nbconvert_exporter": "python",
   "pygments_lexer": "ipython3",
   "version": "3.11.3"
  }
 },
 "nbformat": 4,
 "nbformat_minor": 5
}
